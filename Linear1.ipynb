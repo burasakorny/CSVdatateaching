{
  "nbformat": 4,
  "nbformat_minor": 0,
  "metadata": {
    "colab": {
      "provenance": [],
      "authorship_tag": "ABX9TyN9TQkUg9bFtBPoAFymO/OW",
      "include_colab_link": true
    },
    "kernelspec": {
      "name": "python3",
      "display_name": "Python 3"
    },
    "language_info": {
      "name": "python"
    }
  },
  "cells": [
    {
      "cell_type": "markdown",
      "metadata": {
        "id": "view-in-github",
        "colab_type": "text"
      },
      "source": [
        "<a href=\"https://colab.research.google.com/github/burasakorny/CSVdatateaching/blob/main/Linear1.ipynb\" target=\"_parent\"><img src=\"https://colab.research.google.com/assets/colab-badge.svg\" alt=\"Open In Colab\"/></a>"
      ]
    },
    {
      "cell_type": "code",
      "execution_count": 3,
      "metadata": {
        "colab": {
          "base_uri": "https://localhost:8080/"
        },
        "id": "c1_XXYSalhvz",
        "outputId": "6cbfbba0-ea0d-48b3-b444-2755f12ba3c4"
      },
      "outputs": [
        {
          "output_type": "stream",
          "name": "stdout",
          "text": [
            "   midterm_score  hour_study  total_score\n",
            "0             10           3           40\n",
            "1              8           2           33\n",
            "2             14           5           59\n",
            "3             12           5           65\n",
            "4             19           7           81\n",
            "5             26           8           72\n",
            "6             28           8           79\n",
            "7             29           9           87\n",
            "intercept= 19.796670104611792\n",
            "coef= [-1.84647119 13.34492412]\n"
          ]
        }
      ],
      "source": [
        "import pandas as pd\n",
        "df = pd.read_csv('score.csv')\n",
        "print(df)\n",
        "from sklearn import linear_model\n",
        "X = df[[\"midterm_score\",\"hour_study\"]]\n",
        "y = df[\"total_score\"]\n",
        "lm = linear_model.LinearRegression()\n",
        "lm.fit(X, y)\n",
        "print(\"intercept=\", lm.intercept_)\n",
        "print(\"coef=\", lm.coef_)\n"
      ]
    }
  ]
}